{
 "cells": [
  {
   "cell_type": "code",
   "execution_count": 1,
   "id": "3c55e37d-ec84-4abf-930c-e484a42b2445",
   "metadata": {},
   "outputs": [
    {
     "name": "stdout",
     "output_type": "stream",
     "text": [
      "WARNING:tensorflow:From C:\\Users\\Suryadev Zala\\AppData\\Local\\Programs\\Python\\Python311\\Lib\\site-packages\\keras\\src\\losses.py:2976: The name tf.losses.sparse_softmax_cross_entropy is deprecated. Please use tf.compat.v1.losses.sparse_softmax_cross_entropy instead.\n",
      "\n"
     ]
    }
   ],
   "source": [
    "import numpy as np\n",
    "import pandas as pd\n",
    "from sklearn.model_selection import train_test_split\n",
    "from keras.layers import *\n",
    "from keras.applications.vgg16 import VGG16\n",
    "import matplotlib.pyplot as plt\n",
    "import cv2\n",
    "import os"
   ]
  },
  {
   "cell_type": "code",
   "execution_count": 2,
   "id": "67a04f4c-3357-4711-aca8-239ad0c51c54",
   "metadata": {},
   "outputs": [],
   "source": [
    "train_path='./train'\n",
    "test_path='./test'\n",
    "val_path='./valid'"
   ]
  },
  {
   "cell_type": "code",
   "execution_count": 3,
   "id": "6483f833-fcef-42d7-bb1b-c8cc8adf2391",
   "metadata": {},
   "outputs": [],
   "source": [
    "train_images=[]\n",
    "train_labels=[]\n",
    "\n",
    "\n",
    "for i in os.listdir(train_path):\n",
    "    path=os.path.join(train_path,i)\n",
    "    if i=='adenocarcinoma_left.lower.lobe_T2_N0_M0_Ib':\n",
    "        label=0\n",
    "    elif i=='large.cell.carcinoma_left.hilum_T2_N2_M0_IIIa':\n",
    "        label=1\n",
    "    elif i=='normal':\n",
    "        label=2\n",
    "    else:\n",
    "        label=3\n",
    "        \n",
    "    for j in os.listdir(path):\n",
    "        img=cv2.imread(os.path.join(path,j))\n",
    "        img=cv2.resize(img,(224,224))\n",
    "        img=np.array(img)\n",
    "        train_images.append(img)\n",
    "        train_labels.append(label)        "
   ]
  },
  {
   "cell_type": "code",
   "execution_count": 4,
   "id": "7fde2563-0ffc-4c17-9318-b618c751204f",
   "metadata": {},
   "outputs": [],
   "source": [
    "train_array_images=np.array(train_images)\n",
    "train_array_labels=np.array(train_labels)"
   ]
  },
  {
   "cell_type": "code",
   "execution_count": 5,
   "id": "facb27ab-a4d0-4ac1-8f8b-98a772222acf",
   "metadata": {},
   "outputs": [
    {
     "name": "stdout",
     "output_type": "stream",
     "text": [
      "(613, 224, 224, 3)\n",
      "(613,)\n"
     ]
    }
   ],
   "source": [
    "print(train_array_images.shape)\n",
    "print(train_array_labels.shape)"
   ]
  },
  {
   "cell_type": "code",
   "execution_count": 6,
   "id": "6f2ea75b-785e-45aa-9e6f-4389f8b43b94",
   "metadata": {},
   "outputs": [],
   "source": [
    "test_images=[]\n",
    "test_labels=[]\n",
    "\n",
    "\n",
    "for i in os.listdir(test_path):\n",
    "    path=os.path.join(test_path,i)\n",
    "    if i=='adenocarcinoma':\n",
    "        label=0\n",
    "    elif i=='large.cell.carcinoma':\n",
    "        label=1\n",
    "    elif i=='normal':\n",
    "        label=2\n",
    "    else:\n",
    "        label=3\n",
    "        \n",
    "    for j in os.listdir(path):\n",
    "        img=cv2.imread(os.path.join(path,j))\n",
    "        img=cv2.resize(img,(224,224))\n",
    "        img=np.array(img)\n",
    "        test_images.append(img)\n",
    "        test_labels.append(label)  "
   ]
  },
  {
   "cell_type": "code",
   "execution_count": 7,
   "id": "696a7520-1371-48e4-a0c0-ca659e98f9ad",
   "metadata": {},
   "outputs": [],
   "source": [
    "test_array_images=np.array(test_images)\n",
    "test_array_labels=np.array(test_labels)"
   ]
  },
  {
   "cell_type": "code",
   "execution_count": 8,
   "id": "043ab575-c571-4743-af5a-e9f5335f4576",
   "metadata": {},
   "outputs": [
    {
     "name": "stdout",
     "output_type": "stream",
     "text": [
      "(315, 224, 224, 3)\n",
      "(315,)\n"
     ]
    }
   ],
   "source": [
    "print(test_array_images.shape)\n",
    "print(test_array_labels.shape)"
   ]
  },
  {
   "cell_type": "code",
   "execution_count": 9,
   "id": "f161be4a-0927-4e89-9338-cb732900668e",
   "metadata": {},
   "outputs": [],
   "source": [
    "valid_images=[]\n",
    "valid_labels=[]\n",
    "\n",
    "\n",
    "for i in os.listdir(val_path):\n",
    "    path=os.path.join(val_path,i)\n",
    "    if i=='adenocarcinoma_left.lower.lobe_T2_N0_M0_Ib':\n",
    "        label=0\n",
    "    elif i=='large.cell.carcinoma_left.hilum_T2_N2_M0_IIIa':\n",
    "        label=1\n",
    "    elif i=='normal':\n",
    "        label=2\n",
    "    else:\n",
    "        label=3\n",
    "        \n",
    "    for j in os.listdir(path):\n",
    "        img=cv2.imread(os.path.join(path,j))\n",
    "        img=cv2.resize(img,(224,224))\n",
    "        img=np.array(img)\n",
    "        valid_images.append(img)\n",
    "        valid_labels.append(label) "
   ]
  },
  {
   "cell_type": "code",
   "execution_count": 10,
   "id": "e28bcad4-3b84-44f9-a1ec-ebba85dfcd59",
   "metadata": {},
   "outputs": [],
   "source": [
    "valid_array_images=np.array(valid_images)\n",
    "valid_array_labels=np.array(valid_labels)"
   ]
  },
  {
   "cell_type": "code",
   "execution_count": 11,
   "id": "316c5c8d-8bc8-4685-b350-3d460ee0da08",
   "metadata": {},
   "outputs": [
    {
     "name": "stdout",
     "output_type": "stream",
     "text": [
      "(72, 224, 224, 3)\n",
      "(72,)\n"
     ]
    }
   ],
   "source": [
    "print(valid_array_images.shape)\n",
    "print(valid_array_labels.shape)"
   ]
  },
  {
   "cell_type": "code",
   "execution_count": 12,
   "id": "f7a91747-f332-45ba-9fce-43b28e574637",
   "metadata": {},
   "outputs": [
    {
     "name": "stdout",
     "output_type": "stream",
     "text": [
      "WARNING:tensorflow:From C:\\Users\\Suryadev Zala\\AppData\\Local\\Programs\\Python\\Python311\\Lib\\site-packages\\keras\\src\\backend.py:1398: The name tf.executing_eagerly_outside_functions is deprecated. Please use tf.compat.v1.executing_eagerly_outside_functions instead.\n",
      "\n",
      "WARNING:tensorflow:From C:\\Users\\Suryadev Zala\\AppData\\Local\\Programs\\Python\\Python311\\Lib\\site-packages\\keras\\src\\layers\\pooling\\max_pooling2d.py:161: The name tf.nn.max_pool is deprecated. Please use tf.nn.max_pool2d instead.\n",
      "\n"
     ]
    }
   ],
   "source": [
    "model=VGG16(weights='imagenet',include_top=False,input_shape=(224,224,3))"
   ]
  },
  {
   "cell_type": "code",
   "execution_count": 13,
   "id": "46825601-b94e-4f4c-9d93-d74e165b8e17",
   "metadata": {},
   "outputs": [],
   "source": [
    "model.trainable=False"
   ]
  },
  {
   "cell_type": "code",
   "execution_count": 14,
   "id": "5e421f8e-dfcb-41ab-bed6-13107860e7fc",
   "metadata": {},
   "outputs": [
    {
     "name": "stdout",
     "output_type": "stream",
     "text": [
      "Model: \"vgg16\"\n",
      "_________________________________________________________________\n",
      " Layer (type)                Output Shape              Param #   \n",
      "=================================================================\n",
      " input_1 (InputLayer)        [(None, 224, 224, 3)]     0         \n",
      "                                                                 \n",
      " block1_conv1 (Conv2D)       (None, 224, 224, 64)      1792      \n",
      "                                                                 \n",
      " block1_conv2 (Conv2D)       (None, 224, 224, 64)      36928     \n",
      "                                                                 \n",
      " block1_pool (MaxPooling2D)  (None, 112, 112, 64)      0         \n",
      "                                                                 \n",
      " block2_conv1 (Conv2D)       (None, 112, 112, 128)     73856     \n",
      "                                                                 \n",
      " block2_conv2 (Conv2D)       (None, 112, 112, 128)     147584    \n",
      "                                                                 \n",
      " block2_pool (MaxPooling2D)  (None, 56, 56, 128)       0         \n",
      "                                                                 \n",
      " block3_conv1 (Conv2D)       (None, 56, 56, 256)       295168    \n",
      "                                                                 \n",
      " block3_conv2 (Conv2D)       (None, 56, 56, 256)       590080    \n",
      "                                                                 \n",
      " block3_conv3 (Conv2D)       (None, 56, 56, 256)       590080    \n",
      "                                                                 \n",
      " block3_pool (MaxPooling2D)  (None, 28, 28, 256)       0         \n",
      "                                                                 \n",
      " block4_conv1 (Conv2D)       (None, 28, 28, 512)       1180160   \n",
      "                                                                 \n",
      " block4_conv2 (Conv2D)       (None, 28, 28, 512)       2359808   \n",
      "                                                                 \n",
      " block4_conv3 (Conv2D)       (None, 28, 28, 512)       2359808   \n",
      "                                                                 \n",
      " block4_pool (MaxPooling2D)  (None, 14, 14, 512)       0         \n",
      "                                                                 \n",
      " block5_conv1 (Conv2D)       (None, 14, 14, 512)       2359808   \n",
      "                                                                 \n",
      " block5_conv2 (Conv2D)       (None, 14, 14, 512)       2359808   \n",
      "                                                                 \n",
      " block5_conv3 (Conv2D)       (None, 14, 14, 512)       2359808   \n",
      "                                                                 \n",
      " block5_pool (MaxPooling2D)  (None, 7, 7, 512)         0         \n",
      "                                                                 \n",
      "=================================================================\n",
      "Total params: 14714688 (56.13 MB)\n",
      "Trainable params: 0 (0.00 Byte)\n",
      "Non-trainable params: 14714688 (56.13 MB)\n",
      "_________________________________________________________________\n"
     ]
    }
   ],
   "source": [
    "model.summary()"
   ]
  },
  {
   "cell_type": "code",
   "execution_count": 15,
   "id": "ee614590-de68-4582-9d46-5dd418884702",
   "metadata": {},
   "outputs": [],
   "source": [
    "flat=Flatten()\n",
    "dense1=Dense(512,activation='relu')\n",
    "dense2=Dense(512,activation='relu')\n",
    "dense3=Dense(512,activation='relu')\n",
    "output=Dense(4,activation='softmax')"
   ]
  },
  {
   "cell_type": "code",
   "execution_count": 16,
   "id": "6300ea6a-dba1-47a7-8256-4c5094aeaf73",
   "metadata": {},
   "outputs": [],
   "source": [
    "from keras.models import Sequential\n",
    "\n",
    "model2=Sequential([model,flat,dense1,dense2,dense3,output])"
   ]
  },
  {
   "cell_type": "code",
   "execution_count": 17,
   "id": "cc1ea560-21df-496a-8254-3fe53e7f68a1",
   "metadata": {},
   "outputs": [
    {
     "name": "stdout",
     "output_type": "stream",
     "text": [
      "Model: \"sequential\"\n",
      "_________________________________________________________________\n",
      " Layer (type)                Output Shape              Param #   \n",
      "=================================================================\n",
      " vgg16 (Functional)          (None, 7, 7, 512)         14714688  \n",
      "                                                                 \n",
      " flatten (Flatten)           (None, 25088)             0         \n",
      "                                                                 \n",
      " dense (Dense)               (None, 512)               12845568  \n",
      "                                                                 \n",
      " dense_1 (Dense)             (None, 512)               262656    \n",
      "                                                                 \n",
      " dense_2 (Dense)             (None, 512)               262656    \n",
      "                                                                 \n",
      " dense_3 (Dense)             (None, 4)                 2052      \n",
      "                                                                 \n",
      "=================================================================\n",
      "Total params: 28087620 (107.15 MB)\n",
      "Trainable params: 13372932 (51.01 MB)\n",
      "Non-trainable params: 14714688 (56.13 MB)\n",
      "_________________________________________________________________\n"
     ]
    }
   ],
   "source": [
    "model2.summary()"
   ]
  },
  {
   "cell_type": "code",
   "execution_count": 18,
   "id": "6c61f17b-1e11-4e59-9a03-b55f5d71333e",
   "metadata": {},
   "outputs": [
    {
     "name": "stdout",
     "output_type": "stream",
     "text": [
      "WARNING:tensorflow:From C:\\Users\\Suryadev Zala\\AppData\\Local\\Programs\\Python\\Python311\\Lib\\site-packages\\keras\\src\\optimizers\\__init__.py:309: The name tf.train.Optimizer is deprecated. Please use tf.compat.v1.train.Optimizer instead.\n",
      "\n"
     ]
    }
   ],
   "source": [
    "model2.compile(optimizer='adam' ,loss='sparse_categorical_crossentropy',metrics=['accuracy'])"
   ]
  },
  {
   "cell_type": "code",
   "execution_count": 19,
   "id": "fec8c213-8e4e-49a8-b246-5ff00f4ed961",
   "metadata": {},
   "outputs": [],
   "source": [
    "# pred_images=model2.predict(test_images)"
   ]
  },
  {
   "cell_type": "code",
   "execution_count": 20,
   "id": "9b52cc9b-15a5-4a53-a035-5a453c9f6027",
   "metadata": {},
   "outputs": [
    {
     "name": "stdout",
     "output_type": "stream",
     "text": [
      "Epoch 1/5\n",
      "WARNING:tensorflow:From C:\\Users\\Suryadev Zala\\AppData\\Local\\Programs\\Python\\Python311\\Lib\\site-packages\\keras\\src\\utils\\tf_utils.py:492: The name tf.ragged.RaggedTensorValue is deprecated. Please use tf.compat.v1.ragged.RaggedTensorValue instead.\n",
      "\n",
      "WARNING:tensorflow:From C:\\Users\\Suryadev Zala\\AppData\\Local\\Programs\\Python\\Python311\\Lib\\site-packages\\keras\\src\\engine\\base_layer_utils.py:384: The name tf.executing_eagerly_outside_functions is deprecated. Please use tf.compat.v1.executing_eagerly_outside_functions instead.\n",
      "\n",
      "20/20 [==============================] - 144s 7s/step - loss: 19.6822 - accuracy: 0.4290 - val_loss: 8.9165 - val_accuracy: 0.4583\n",
      "Epoch 2/5\n",
      "20/20 [==============================] - 139s 7s/step - loss: 1.2128 - accuracy: 0.8630 - val_loss: 3.6791 - val_accuracy: 0.6111\n",
      "Epoch 3/5\n",
      "20/20 [==============================] - 139s 7s/step - loss: 0.3894 - accuracy: 0.9396 - val_loss: 2.1811 - val_accuracy: 0.7222\n",
      "Epoch 4/5\n",
      "20/20 [==============================] - 139s 7s/step - loss: 0.1093 - accuracy: 0.9821 - val_loss: 1.2921 - val_accuracy: 0.8194\n",
      "Epoch 5/5\n",
      "20/20 [==============================] - 139s 7s/step - loss: 0.1258 - accuracy: 0.9837 - val_loss: 1.1816 - val_accuracy: 0.8611\n"
     ]
    },
    {
     "data": {
      "text/plain": [
       "<keras.src.callbacks.History at 0x2294b5cd290>"
      ]
     },
     "execution_count": 20,
     "metadata": {},
     "output_type": "execute_result"
    }
   ],
   "source": [
    "model2.fit(train_array_images,train_array_labels,epochs=5,validation_data=[valid_array_images,valid_array_labels])"
   ]
  },
  {
   "cell_type": "code",
   "execution_count": 36,
   "id": "78a10bae-2adf-46e4-aabc-4a0b868d9d57",
   "metadata": {},
   "outputs": [
    {
     "data": {
      "text/plain": [
       "(1, 224, 224, 3)"
      ]
     },
     "execution_count": 36,
     "metadata": {},
     "output_type": "execute_result"
    }
   ],
   "source": [
    "test_image=cv2.imread('./test/normal/normal.png')\n",
    "# print(test_image)\n",
    "test_image=cv2.resize(test_image,(224,224))\n",
    "test_array_image=np.array(test_image)\n",
    "test_array_image.shape\n",
    "test_array_image=test_array_image.reshape(1,224,224,3)\n",
    "test_array_image.shape"
   ]
  },
  {
   "cell_type": "code",
   "execution_count": 37,
   "id": "620319c2-4b4e-4348-b227-d7d3fba606ef",
   "metadata": {},
   "outputs": [
    {
     "name": "stdout",
     "output_type": "stream",
     "text": [
      "1/1 [==============================] - 0s 324ms/step\n"
     ]
    }
   ],
   "source": [
    " pred_labels=model2.predict(test_array_image)"
   ]
  },
  {
   "cell_type": "code",
   "execution_count": 38,
   "id": "28b4a3e4-5aac-4dc1-81a0-c522894cc209",
   "metadata": {},
   "outputs": [
    {
     "data": {
      "text/plain": [
       "array([[2.2101402e-24, 5.2234149e-25, 1.0000000e+00, 1.1585815e-18]],\n",
       "      dtype=float32)"
      ]
     },
     "execution_count": 38,
     "metadata": {},
     "output_type": "execute_result"
    }
   ],
   "source": [
    "pred_labels"
   ]
  },
  {
   "cell_type": "code",
   "execution_count": 39,
   "id": "0ba4464f-6759-4bd0-8f70-171835adc0ac",
   "metadata": {},
   "outputs": [
    {
     "data": {
      "text/plain": [
       "2"
      ]
     },
     "execution_count": 39,
     "metadata": {},
     "output_type": "execute_result"
    }
   ],
   "source": [
    "pred_labels.argmax()"
   ]
  },
  {
   "cell_type": "code",
   "execution_count": 40,
   "id": "c3785c7f-a138-4fa5-9bb1-55e5fd9d168b",
   "metadata": {},
   "outputs": [],
   "source": [
    "from joblib import dump"
   ]
  },
  {
   "cell_type": "code",
   "execution_count": 41,
   "id": "13fc5d64-4dc3-40fe-bdf6-4f72a64030fb",
   "metadata": {},
   "outputs": [
    {
     "data": {
      "text/plain": [
       "['./../../model/deploy/SavedModels/chest_ct.joblib']"
      ]
     },
     "execution_count": 41,
     "metadata": {},
     "output_type": "execute_result"
    }
   ],
   "source": [
    "dump(model2,'./../../model/deploy/SavedModels/chest_ct.joblib')"
   ]
  },
  {
   "cell_type": "code",
   "execution_count": null,
   "id": "8ecda627-34b5-4dbe-97c2-e25cf80bc7e0",
   "metadata": {},
   "outputs": [],
   "source": []
  }
 ],
 "metadata": {
  "kernelspec": {
   "display_name": "Python 3 (ipykernel)",
   "language": "python",
   "name": "python3"
  },
  "language_info": {
   "codemirror_mode": {
    "name": "ipython",
    "version": 3
   },
   "file_extension": ".py",
   "mimetype": "text/x-python",
   "name": "python",
   "nbconvert_exporter": "python",
   "pygments_lexer": "ipython3",
   "version": "3.11.0"
  }
 },
 "nbformat": 4,
 "nbformat_minor": 5
}
